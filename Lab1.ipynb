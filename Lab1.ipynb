{
  "nbformat": 4,
  "nbformat_minor": 0,
  "metadata": {
    "colab": {
      "name": "Lab1.ipynb",
      "provenance": [],
      "authorship_tag": "ABX9TyMdsDONVtVNFgZFfat4pr8l",
      "include_colab_link": true
    },
    "kernelspec": {
      "name": "python3",
      "display_name": "Python 3"
    }
  },
  "cells": [
    {
      "cell_type": "markdown",
      "metadata": {
        "id": "view-in-github",
        "colab_type": "text"
      },
      "source": [
        "<a href=\"https://colab.research.google.com/github/jdsheley/IST-210/blob/master/Lab1.ipynb\" target=\"_parent\"><img src=\"https://colab.research.google.com/assets/colab-badge.svg\" alt=\"Open In Colab\"/></a>"
      ]
    },
    {
      "cell_type": "markdown",
      "metadata": {
        "id": "tt57aH4_NAIG",
        "colab_type": "text"
      },
      "source": [
        "###Do you like using Jupyter Notebooks?"
      ]
    },
    {
      "cell_type": "markdown",
      "metadata": {
        "id": "hmNrxbJfNEvq",
        "colab_type": "text"
      },
      "source": [
        "Jupyter Notebooks are brnad new to me, but I do not mind using them. I'm sure they will become second nature by the end of the semester."
      ]
    },
    {
      "cell_type": "markdown",
      "metadata": {
        "id": "RnwrvoF4NFve",
        "colab_type": "text"
      },
      "source": [
        "###What do you want to learn more about in Jupyter Notebooks?"
      ]
    },
    {
      "cell_type": "markdown",
      "metadata": {
        "id": "qU7A6dESNM4I",
        "colab_type": "text"
      },
      "source": [
        "I would like to learn more about code cells in Jupyter Notebooks. I am wondering if these cells can handle complex or large amounts of code."
      ]
    },
    {
      "cell_type": "markdown",
      "metadata": {
        "id": "iJGjg83BN9rZ",
        "colab_type": "text"
      },
      "source": [
        "![flyers](https://raw.githubusercontent.com/jdsheley/IST-210/master/Images/flyers.jpeg)"
      ]
    }
  ]
}